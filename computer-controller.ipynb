{
 "cells": [
  {
   "cell_type": "code",
   "execution_count": 1,
   "metadata": {},
   "outputs": [
    {
     "name": "stdout",
     "output_type": "stream",
     "text": [
      "env: PATH=/opt/conda/bin:/opt/spark-2.4.3-bin-hadoop2.7/bin:/opt/conda/bin:/usr/local/sbin:/usr/local/bin:/usr/sbin:/usr/bin:/sbin:/bin:/opt/intel_devcloud_support\n"
     ]
    }
   ],
   "source": [
    "%env PATH=/opt/conda/bin:/opt/spark-2.4.3-bin-hadoop2.7/bin:/opt/conda/bin:/usr/local/sbin:/usr/local/bin:/usr/sbin:/usr/bin:/sbin:/bin:/opt/intel_devcloud_support\n",
    "import os\n",
    "import sys\n",
    "sys.path.insert(0, os.path.abspath('/opt/intel_devcloud_support'))\n",
    "sys.path.insert(0, os.path.abspath('/opt/intel'))"
   ]
  },
  {
   "cell_type": "code",
   "execution_count": 2,
   "metadata": {},
   "outputs": [
    {
     "name": "stdout",
     "output_type": "stream",
     "text": [
      "/home/u43121/computer-pointer-controller/src\r\n"
     ]
    }
   ],
   "source": [
    "!pwd"
   ]
  },
  {
   "cell_type": "code",
   "execution_count": 3,
   "metadata": {},
   "outputs": [
    {
     "data": {
      "text/html": [
       "\n",
       "    <video width=\"860\" height=\"415\"  alt=\"test\" controls>\n",
       "        <source src=\"../bin/demo.mp4\" type=\"video/mp4\">\n",
       "    </video>\n",
       "    "
      ],
      "text/plain": [
       "<IPython.core.display.HTML object>"
      ]
     },
     "execution_count": 3,
     "metadata": {},
     "output_type": "execute_result"
    }
   ],
   "source": [
    "from IPython.display import HTML\n",
    "\n",
    "HTML(\"\"\"\n",
    "    <video width=\"860\" height=\"415\"  alt=\"test\" controls>\n",
    "        <source src=\"../bin/demo.mp4\" type=\"video/mp4\">\n",
    "    </video>\n",
    "    \"\"\")\n"
   ]
  },
  {
   "cell_type": "code",
   "execution_count": 4,
   "metadata": {},
   "outputs": [
    {
     "name": "stdout",
     "output_type": "stream",
     "text": [
      "################|| Downloading models ||################\n",
      "\n",
      "========== Downloading ../models/intel/face-detection-adas-binary-0001/FP32-INT1/face-detection-adas-binary-0001.xml\n",
      "... 100%, 113 KB, 3245 KB/s, 0 seconds passed\n",
      "\n",
      "========== Downloading ../models/intel/face-detection-adas-binary-0001/FP32-INT1/face-detection-adas-binary-0001.bin\n",
      "... 100%, 1797 KB, 29444 KB/s, 0 seconds passed\n",
      "\n",
      "################|| Post-processing ||################\n",
      "\n",
      "################|| Downloading models ||################\n",
      "\n",
      "========== Downloading ../models/intel/head-pose-estimation-adas-0001/FP32/head-pose-estimation-adas-0001.xml\n",
      "... 100%, 49 KB, 2915 KB/s, 0 seconds passed\n",
      "\n",
      "========== Downloading ../models/intel/head-pose-estimation-adas-0001/FP32/head-pose-estimation-adas-0001.bin\n",
      "... 100%, 7468 KB, 28734 KB/s, 0 seconds passed\n",
      "\n",
      "========== Downloading ../models/intel/head-pose-estimation-adas-0001/FP16/head-pose-estimation-adas-0001.xml\n",
      "... 100%, 49 KB, 2883 KB/s, 0 seconds passed\n",
      "\n",
      "========== Downloading ../models/intel/head-pose-estimation-adas-0001/FP16/head-pose-estimation-adas-0001.bin\n",
      "... 100%, 3734 KB, 29269 KB/s, 0 seconds passed\n",
      "\n",
      "========== Downloading ../models/intel/head-pose-estimation-adas-0001/FP16-INT8/head-pose-estimation-adas-0001.xml\n",
      "... 100%, 89 KB, 5988 KB/s, 0 seconds passedd\n",
      "\n",
      "========== Downloading ../models/intel/head-pose-estimation-adas-0001/FP16-INT8/head-pose-estimation-adas-0001.bin\n",
      "... 100%, 2033 KB, 30032 KB/s, 0 seconds passed\n",
      "\n",
      "################|| Post-processing ||################\n",
      "\n",
      "################|| Downloading models ||################\n",
      "\n",
      "========== Downloading ../models/intel/landmarks-regression-retail-0009/FP32/landmarks-regression-retail-0009.xml\n",
      "... 100%, 41 KB, 2589 KB/s, 0 seconds passed\n",
      "\n",
      "========== Downloading ../models/intel/landmarks-regression-retail-0009/FP32/landmarks-regression-retail-0009.bin\n",
      "... 100%, 744 KB, 29818 KB/s, 0 seconds passed\n",
      "\n",
      "========== Downloading ../models/intel/landmarks-regression-retail-0009/FP16/landmarks-regression-retail-0009.xml\n",
      "... 100%, 41 KB, 62970 KB/s, 0 seconds passed\n",
      "\n",
      "========== Downloading ../models/intel/landmarks-regression-retail-0009/FP16/landmarks-regression-retail-0009.bin\n",
      "... 100%, 372 KB, 36557 KB/s, 0 seconds passed\n",
      "\n",
      "========== Downloading ../models/intel/landmarks-regression-retail-0009/FP16-INT8/landmarks-regression-retail-0009.xml\n",
      "... 100%, 75 KB, 69224 KB/s, 0 seconds passed\n",
      "\n",
      "========== Downloading ../models/intel/landmarks-regression-retail-0009/FP16-INT8/landmarks-regression-retail-0009.bin\n",
      "... 100%, 239 KB, 41361 KB/s, 0 seconds passed\n",
      "\n",
      "################|| Post-processing ||################\n",
      "\n",
      "################|| Downloading models ||################\n",
      "\n",
      "========== Downloading ../models/intel/gaze-estimation-adas-0002/FP32/gaze-estimation-adas-0002.xml\n",
      "... 100%, 62 KB, 3257 KB/s, 0 seconds passed\n",
      "\n",
      "========== Downloading ../models/intel/gaze-estimation-adas-0002/FP32/gaze-estimation-adas-0002.bin\n",
      "... 100%, 7352 KB, 28748 KB/s, 0 seconds passed\n",
      "\n",
      "========== Downloading ../models/intel/gaze-estimation-adas-0002/FP16/gaze-estimation-adas-0002.xml\n",
      "... 100%, 62 KB, 3491 KB/s, 0 seconds passed\n",
      "\n",
      "========== Downloading ../models/intel/gaze-estimation-adas-0002/FP16/gaze-estimation-adas-0002.bin\n",
      "... 100%, 3676 KB, 29817 KB/s, 0 seconds passed\n",
      "\n",
      "========== Downloading ../models/intel/gaze-estimation-adas-0002/FP16-INT8/gaze-estimation-adas-0002.xml\n",
      "... 100%, 136 KB, 7134 KB/s, 0 seconds passed\n",
      "\n",
      "========== Downloading ../models/intel/gaze-estimation-adas-0002/FP16-INT8/gaze-estimation-adas-0002.bin\n",
      "... 100%, 2008 KB, 30084 KB/s, 0 seconds passed\n",
      "\n",
      "################|| Post-processing ||################\n",
      "\n"
     ]
    }
   ],
   "source": [
    "# %%capture\n",
    "!python3 /opt/intel/openvino/deployment_tools/tools/model_downloader/downloader.py --name face-detection-adas-binary-0001 --output_dir ../models\n",
    "!python3 /opt/intel/openvino/deployment_tools/tools/model_downloader/downloader.py --name head-pose-estimation-adas-0001 --output_dir ../models\n",
    "!python3 /opt/intel/openvino/deployment_tools/tools/model_downloader/downloader.py --name landmarks-regression-retail-0009 --output_dir ../models\n",
    "!python3 /opt/intel/openvino/deployment_tools/tools/model_downloader/downloader.py --name gaze-estimation-adas-0002 --output_dir ../models"
   ]
  },
  {
   "cell_type": "code",
   "execution_count": 4,
   "metadata": {},
   "outputs": [
    {
     "name": "stdout",
     "output_type": "stream",
     "text": [
      "Writing computer_pointer.sh\n"
     ]
    }
   ],
   "source": [
    "%%writefile computer_pointer.sh\n",
    "#!/bin/bash\n",
    "\n",
    "exec 1>output/stdout.log 2>output/stderr.log\n",
    "\n",
    "mkdir -p $1\n",
    "OUTPUT_FILE=$1\n",
    "DEVICE=$2\n",
    "PRECISION=$3\n",
    "INPUT_FILE=$4\n",
    "THRESHOLD=$5\n",
    "\n",
    "if [ \"$PRECISION\" = \"FP32\" ]; then\n",
    "    FACEMODELPATH=../models/intel/face-detection-adas-binary-0001/FP32-INT1/face-detection-adas-binary-0001.xml\n",
    "    POSEMODELPATH=../models/intel/head-pose-estimation-adas-0001/FP32/head-pose-estimation-adas-0001.xml\n",
    "    LANDMARKSMODELPATH=../models/intel/landmarks-regression-retail-0009/FP32/landmarks-regression-retail-0009.xml    \n",
    "    GAZEMODELPATH=../models/intel/gaze-estimation-adas-0002/FP32/gaze-estimation-adas-0002.xml        \n",
    "else\n",
    "    FACEMODELPATH=../models/intel/face-detection-adas-binary-0001/FP32-INT1/face-detection-adas-binary-0001.xml\n",
    "    POSEMODELPATH=../models/intel/head-pose-estimation-adas-0001/FP16/head-pose-estimation-adas-0001.xml\n",
    "    LANDMARKSMODELPATH=../models/intel/landmarks-regression-retail-0009/FP16/landmarks-regression-retail-0009.xml    \n",
    "    GAZEMODELPATH=../models/intel/gaze-estimation-adas-0002/FP16/gaze-estimation-adas-0002.xml        \n",
    "fi\n",
    "\n",
    "if echo \"$DEVICE\" | grep -q \"FPGA\"; then # if device passed in is FPGA, load bitstream to program FPGA\n",
    "    #Environment variables and compilation for edge compute nodes with FPGAs\n",
    "    source /opt/intel/init_openvino.sh\n",
    "    aocl program acl0 /opt/intel/openvino/bitstreams/a10_vision_design_sg1_bitstreams/2019R4_PL1_FP16_MobileNet_Clamp.aocx\n",
    "fi\n",
    "\n",
    "python3 computer_pointer.py -fm ${FACEMODELPATH} \\\n",
    "                -pm ${POSEMODELPATH} \\\n",
    "                -lm ${LANDMARKSMODELPATH} \\\n",
    "                -gm ${GAZEMODELPATH} \\\n",
    "                -i ${INPUT_FILE} \\\n",
    "                -o ${OUTPUT_FILE} \\\n",
    "                -d ${DEVICE} \\\n",
    "                -c ${THRESHOLD}\n"
   ]
  },
  {
   "cell_type": "markdown",
   "metadata": {},
   "source": [
    "## Submit to an Edge Compute Node with an Intel CPU\n",
    "In the cell below, write a script to submit a job to an <a \n",
    "    href=\"https://software.intel.com/en-us/iot/hardware/iei-tank-dev-kit-core\">IEI \n",
    "    Tank* 870-Q170</a> edge node with an <a \n",
    "    href=\"https://ark.intel.com/products/88186/Intel-Core-i5-6500TE-Processor-6M-Cache-up-to-3-30-GHz-\">Intel® Core™ i5-6500TE processor</a>. The inference workload should run on the CPU.\n",
    "\n",
    "NOTE: **Change precison to FP16 to run application with FP16**"
   ]
  },
  {
   "cell_type": "code",
   "execution_count": 5,
   "metadata": {},
   "outputs": [],
   "source": [
    "# Run for CPU with Model precision = FP32\n",
    "device = \"CPU\"\n",
    "output_path = \"output/results/fp16/cpu\"\n",
    "precision = \"FP16\"\n",
    "thres=0.5\n",
    "input_file = \"../bin/demo.mp4\"\n",
    "params = ' {} {} {} {} {}'.format(output_path, device, precision, input_file, thres)"
   ]
  },
  {
   "cell_type": "code",
   "execution_count": 6,
   "metadata": {},
   "outputs": [],
   "source": [
    "job_id = !qsub computer_pointer.sh -l nodes=1:tank-870:i5-6500te -d . -F \"{params}\" -N \"cpu\""
   ]
  },
  {
   "cell_type": "code",
   "execution_count": 7,
   "metadata": {},
   "outputs": [
    {
     "data": {
      "text/plain": [
       "['14028.v-qsvr-2.devcloud-edge']"
      ]
     },
     "execution_count": 7,
     "metadata": {},
     "output_type": "execute_result"
    }
   ],
   "source": [
    "job_id"
   ]
  },
  {
   "cell_type": "code",
   "execution_count": 8,
   "metadata": {},
   "outputs": [
    {
     "name": "stdout",
     "output_type": "stream",
     "text": [
      "Job ID                    Name             User            Time Use S Queue\r\n",
      "------------------------- ---------------- --------------- -------- - -----\r\n",
      "13454.v-qsvr-2             ...ub-singleuser u43121          00:03:12 R jupyterhub     \r\n",
      "14028.v-qsvr-2             cpu              u43121                 0 R batch          \r\n"
     ]
    }
   ],
   "source": [
    "!qstat"
   ]
  },
  {
   "cell_type": "code",
   "execution_count": null,
   "metadata": {},
   "outputs": [],
   "source": []
  },
  {
   "cell_type": "markdown",
   "metadata": {},
   "source": [
    "## Submit to an Edge Compute Node with a CPU and IGPU\n",
    "In the cell below, write a script to submit a job to an <a href=\"https://software.intel.com/en-us/iot/hardware/iei-tank-dev-kit-core\">IEI Tank* 870-Q170</a> edge node with an <a href=\"https://ark.intel.com/products/88186/Intel-Core-i5-6500TE-Processor-6M-Cache-up-to-3-30-GHz-\">Intel® Core i5-6500TE</a>. The inference workload should run on the **Intel® HD Graphics 530** integrated GPU."
   ]
  },
  {
   "cell_type": "code",
   "execution_count": 9,
   "metadata": {},
   "outputs": [],
   "source": [
    "# Run for CPU with Model precision = FP32\n",
    "device = \"GPU\"\n",
    "output_path = \"output/results/fp16/igpu\"\n",
    "precision = \"FP16\"\n",
    "thres=0.5\n",
    "input_file = \"../bin/demo.mp4\"\n",
    "params = ' {} {} {} {} {}'.format(output_path, device, precision, input_file, thres)\n",
    "node = \"tank-870:i5-6500te:intel-hd-530\"\n",
    "job_name = \"igpu\""
   ]
  },
  {
   "cell_type": "code",
   "execution_count": 10,
   "metadata": {},
   "outputs": [],
   "source": [
    "job_id = !qsub computer_pointer.sh -l nodes=1:{node} -d . -F \"{params}\" -N {job_name}"
   ]
  },
  {
   "cell_type": "code",
   "execution_count": 11,
   "metadata": {},
   "outputs": [
    {
     "data": {
      "text/plain": [
       "['14029.v-qsvr-2.devcloud-edge']"
      ]
     },
     "execution_count": 11,
     "metadata": {},
     "output_type": "execute_result"
    }
   ],
   "source": [
    "job_id"
   ]
  },
  {
   "cell_type": "code",
   "execution_count": 12,
   "metadata": {},
   "outputs": [
    {
     "name": "stdout",
     "output_type": "stream",
     "text": [
      "Job ID                    Name             User            Time Use S Queue\r\n",
      "------------------------- ---------------- --------------- -------- - -----\r\n",
      "13454.v-qsvr-2             ...ub-singleuser u43121          00:03:13 R jupyterhub     \r\n",
      "14028.v-qsvr-2             cpu              u43121                 0 R batch          \r\n",
      "14029.v-qsvr-2             igpu             u43121                 0 R batch          \r\n"
     ]
    }
   ],
   "source": [
    "!qstat"
   ]
  },
  {
   "cell_type": "markdown",
   "metadata": {},
   "source": [
    "## Submit to an Edge Compute Node with an Intel® Neural Compute Stick 2\n",
    "In the cell below, write a script to submit a job to an <a \n",
    "    href=\"https://software.intel.com/en-us/iot/hardware/iei-tank-dev-kit-core\">IEI \n",
    "    Tank 870-Q170</a> edge node with an <a href=\"https://ark.intel.com/products/88186/Intel-Core-i5-6500TE-Processor-6M-Cache-up-to-3-30-GHz-\">Intel Core i5-6500te CPU</a>. The inference workload should run on an <a \n",
    "    href=\"https://software.intel.com/en-us/neural-compute-stick\">Intel Neural Compute Stick 2</a> installed in this  node."
   ]
  },
  {
   "cell_type": "code",
   "execution_count": 13,
   "metadata": {},
   "outputs": [],
   "source": [
    "# Run for CPU with Model precision = FP32\n",
    "output_path = \"output/results/fp16/vpu\"\n",
    "precision = \"FP16\"\n",
    "thres=0.5\n",
    "input_file = \"../bin/demo.mp4\"\n",
    "params = ' {} {} {} {} {}'.format(output_path, device, precision, input_file, thres)\n",
    "device = \"MYRIAD\"\n",
    "node = \"tank-870:i5-6500te:intel-ncs2\"\n",
    "job_name = \"ncs2\""
   ]
  },
  {
   "cell_type": "code",
   "execution_count": 14,
   "metadata": {},
   "outputs": [],
   "source": [
    "job_id = !qsub computer_pointer.sh -l nodes=1:{node} -d . -F \"{params}\" -N {job_name}"
   ]
  },
  {
   "cell_type": "code",
   "execution_count": 15,
   "metadata": {},
   "outputs": [
    {
     "data": {
      "text/plain": [
       "['14030.v-qsvr-2.devcloud-edge']"
      ]
     },
     "execution_count": 15,
     "metadata": {},
     "output_type": "execute_result"
    }
   ],
   "source": [
    "job_id"
   ]
  },
  {
   "cell_type": "code",
   "execution_count": 16,
   "metadata": {},
   "outputs": [
    {
     "name": "stdout",
     "output_type": "stream",
     "text": [
      "Job ID                    Name             User            Time Use S Queue\r\n",
      "------------------------- ---------------- --------------- -------- - -----\r\n",
      "13454.v-qsvr-2             ...ub-singleuser u43121          00:03:13 R jupyterhub     \r\n",
      "14029.v-qsvr-2             igpu             u43121                 0 R batch          \r\n",
      "14030.v-qsvr-2             ncs2             u43121                 0 R batch          \r\n"
     ]
    }
   ],
   "source": [
    "!qstat"
   ]
  },
  {
   "cell_type": "markdown",
   "metadata": {},
   "source": [
    "## Submit to an Edge Compute Node with IEI Mustang-F100-A10\n",
    "In the cell below, write a script to submit a job to an <a \n",
    "    href=\"https://software.intel.com/en-us/iot/hardware/iei-tank-dev-kit-core\">IEI \n",
    "    Tank 870-Q170</a> edge node with an <a href=\"https://ark.intel.com/products/88186/Intel-Core-i5-6500TE-Processor-6M-Cache-up-to-3-30-GHz-\">Intel Core™ i5-6500te CPU</a> . The inference workload will run on the <a href=\"https://www.ieiworld.com/mustang-f100/en/\"> IEI Mustang-F100-A10 </a> FPGA card installed in this node."
   ]
  },
  {
   "cell_type": "code",
   "execution_count": 17,
   "metadata": {},
   "outputs": [],
   "source": [
    "# Run for CPU with Model precision = FP32\n",
    "output_path = \"output/results/fp16/fpga\"\n",
    "precision = \"FP16\"\n",
    "thres=0.5\n",
    "input_file = \"../bin/demo.mp4\"\n",
    "params = ' {} {} {} {} {}'.format(output_path, device, precision, input_file, thres)\n",
    "device = \"HETERO:FPGA,CPU\"\n",
    "node = \"tank-870:i5-6500te:iei-mustang-f100-a10\"\n",
    "job_name = \"fpga\"\n"
   ]
  },
  {
   "cell_type": "code",
   "execution_count": 18,
   "metadata": {},
   "outputs": [],
   "source": [
    "job_id = !qsub computer_pointer.sh -l nodes=1:{node} -d . -F \"{params}\" -N {job_name}"
   ]
  },
  {
   "cell_type": "code",
   "execution_count": 19,
   "metadata": {},
   "outputs": [
    {
     "data": {
      "text/plain": [
       "['14031.v-qsvr-2.devcloud-edge']"
      ]
     },
     "execution_count": 19,
     "metadata": {},
     "output_type": "execute_result"
    }
   ],
   "source": [
    "job_id"
   ]
  },
  {
   "cell_type": "code",
   "execution_count": 20,
   "metadata": {},
   "outputs": [
    {
     "name": "stdout",
     "output_type": "stream",
     "text": [
      "Job ID                    Name             User            Time Use S Queue\r\n",
      "------------------------- ---------------- --------------- -------- - -----\r\n",
      "13454.v-qsvr-2             ...ub-singleuser u43121          00:03:13 R jupyterhub     \r\n",
      "14030.v-qsvr-2             ncs2             u43121                 0 R batch          \r\n",
      "14031.v-qsvr-2             fpga             u43121                 0 R batch          \r\n"
     ]
    }
   ],
   "source": [
    "!qstat"
   ]
  },
  {
   "cell_type": "code",
   "execution_count": null,
   "metadata": {},
   "outputs": [],
   "source": []
  },
  {
   "cell_type": "code",
   "execution_count": 55,
   "metadata": {},
   "outputs": [],
   "source": [
    "import matplotlib.pyplot as plt\n",
    "\n",
    "device_list=['cpu', 'igpu', 'fpga', 'vpu']\n",
    "inference_time=[]\n",
    "fps=[]\n",
    "model_load_time=[]\n",
    "\n",
    "for device in device_list:\n",
    "    with open('output/results/fp16/'+device+'/stats.txt', 'r') as f:\n",
    "        inf_time = float(f.readline().split(\"\\n\")[0])\n",
    "        inference_time.append(inf_time)\n",
    "        fps.append(float(f.readline().split(\"\\n\")[0]) / inf_time)\n",
    "        model_load_time.append(int(f.readline().split(\"\\n\")[0]))"
   ]
  },
  {
   "cell_type": "code",
   "execution_count": 56,
   "metadata": {},
   "outputs": [
    {
     "data": {
      "text/plain": [
       "[19.2, 20.3, 20.7, 19.2]"
      ]
     },
     "execution_count": 56,
     "metadata": {},
     "output_type": "execute_result"
    }
   ],
   "source": [
    "inference_time"
   ]
  },
  {
   "cell_type": "code",
   "execution_count": 52,
   "metadata": {},
   "outputs": [
    {
     "data": {
      "image/png": "[encoded data removed]",
      "text/plain": [
       "<Figure size 432x288 with 1 Axes>"
      ]
     },
     "metadata": {
      "needs_background": "light"
     },
     "output_type": "display_data"
    }
   ],
   "source": [
    "plt.bar(device_list, inference_time)\n",
    "plt.xlabel(\"Device Used\")\n",
    "plt.ylabel(\"Total Inference Time in Seconds\")\n",
    "plt.savefig('fp16_inference_time.png')\n",
    "plt.show()"
   ]
  },
  {
   "cell_type": "code",
   "execution_count": 53,
   "metadata": {},
   "outputs": [
    {
     "data": {
      "image/png": "[encoded data removed]",
      "text/plain": [
       "<Figure size 432x288 with 1 Axes>"
      ]
     },
     "metadata": {
      "needs_background": "light"
     },
     "output_type": "display_data"
    }
   ],
   "source": [
    "plt.bar(device_list, fps)\n",
    "plt.xlabel(\"Device Used\")\n",
    "plt.ylabel(\"Frames per Second\")\n",
    "plt.savefig('fp16_frames_ps.png')\n",
    "plt.show()"
   ]
  },
  {
   "cell_type": "code",
   "execution_count": 57,
   "metadata": {},
   "outputs": [
    {
     "data": {
      "image/png": "[encoded data removed]",
      "text/plain": [
       "<Figure size 432x288 with 1 Axes>"
      ]
     },
     "metadata": {
      "needs_background": "light"
     },
     "output_type": "display_data"
    }
   ],
   "source": [
    "plt.bar(device_list, model_load_time)\n",
    "plt.xlabel(\"Device Used\")\n",
    "plt.ylabel(\"Model Loading Time in Seconds\")\n",
    "plt.savefig('fp16_model_load__time.png')\n",
    "plt.show()\n"
   ]
  },
  {
   "cell_type": "code",
   "execution_count": 25,
   "metadata": {},
   "outputs": [],
   "source": [
    "device = \"CPU\"\n",
    "output_path = \"output/results/fp32/cpu\"\n",
    "precision = \"FP32\"\n",
    "thres=0.5\n",
    "input_file = \"../bin/demo.mp4\"\n",
    "params = ' {} {} {} {} {}'.format(output_path, device, precision, input_file, thres)"
   ]
  },
  {
   "cell_type": "code",
   "execution_count": 31,
   "metadata": {},
   "outputs": [],
   "source": [
    "job_id = !qsub computer_pointer.sh -l nodes=1:tank-870:i5-6500te -d . -F \"{params}\" -N \"cpu\""
   ]
  },
  {
   "cell_type": "code",
   "execution_count": 32,
   "metadata": {},
   "outputs": [
    {
     "data": {
      "text/plain": [
       "['14033.v-qsvr-2.devcloud-edge']"
      ]
     },
     "execution_count": 32,
     "metadata": {},
     "output_type": "execute_result"
    }
   ],
   "source": [
    "job_id"
   ]
  },
  {
   "cell_type": "code",
   "execution_count": 33,
   "metadata": {},
   "outputs": [
    {
     "name": "stdout",
     "output_type": "stream",
     "text": [
      "Job ID                    Name             User            Time Use S Queue\r\n",
      "------------------------- ---------------- --------------- -------- - -----\r\n",
      "13454.v-qsvr-2             ...ub-singleuser u43121          00:03:13 R jupyterhub     \r\n",
      "14033.v-qsvr-2             cpu              u43121                 0 R batch          \r\n"
     ]
    }
   ],
   "source": [
    "\n",
    "!qstat"
   ]
  },
  {
   "cell_type": "code",
   "execution_count": 34,
   "metadata": {},
   "outputs": [],
   "source": [
    "device = \"GPU\"\n",
    "output_path = \"output/results/fp32/igpu\"\n",
    "precision = \"FP32\"\n",
    "thres=0.5\n",
    "input_file = \"../bin/demo.mp4\"\n",
    "params = ' {} {} {} {} {}'.format(output_path, device, precision, input_file, thres)\n",
    "node = \"tank-870:i5-6500te:intel-hd-530\"\n",
    "job_name = \"igpu\""
   ]
  },
  {
   "cell_type": "code",
   "execution_count": 35,
   "metadata": {},
   "outputs": [],
   "source": [
    "job_id = !qsub computer_pointer.sh -l nodes=1:{node} -d . -F \"{params}\" -N {job_name}"
   ]
  },
  {
   "cell_type": "code",
   "execution_count": 36,
   "metadata": {},
   "outputs": [
    {
     "data": {
      "text/plain": [
       "['14034.v-qsvr-2.devcloud-edge']"
      ]
     },
     "execution_count": 36,
     "metadata": {},
     "output_type": "execute_result"
    }
   ],
   "source": [
    "job_id"
   ]
  },
  {
   "cell_type": "code",
   "execution_count": 37,
   "metadata": {},
   "outputs": [
    {
     "name": "stdout",
     "output_type": "stream",
     "text": [
      "Job ID                    Name             User            Time Use S Queue\r\n",
      "------------------------- ---------------- --------------- -------- - -----\r\n",
      "13454.v-qsvr-2             ...ub-singleuser u43121          00:03:13 R jupyterhub     \r\n",
      "14033.v-qsvr-2             cpu              u43121                 0 R batch          \r\n",
      "14034.v-qsvr-2             igpu             u43121                 0 R batch          \r\n"
     ]
    }
   ],
   "source": [
    "!qstat"
   ]
  },
  {
   "cell_type": "code",
   "execution_count": 38,
   "metadata": {},
   "outputs": [],
   "source": [
    "output_path = \"output/results/fp32/vpu\"\n",
    "precision = \"FP32\"\n",
    "thres=0.5\n",
    "input_file = \"../bin/demo.mp4\"\n",
    "params = ' {} {} {} {} {}'.format(output_path, device, precision, input_file, thres)\n",
    "device = \"MYRIAD\"\n",
    "node = \"tank-870:i5-6500te:intel-ncs2\"\n",
    "job_name = \"ncs2\""
   ]
  },
  {
   "cell_type": "code",
   "execution_count": 39,
   "metadata": {},
   "outputs": [],
   "source": [
    "job_id = !qsub computer_pointer.sh -l nodes=1:{node} -d . -F \"{params}\" -N {job_name}"
   ]
  },
  {
   "cell_type": "code",
   "execution_count": 40,
   "metadata": {},
   "outputs": [
    {
     "data": {
      "text/plain": [
       "['14035.v-qsvr-2.devcloud-edge']"
      ]
     },
     "execution_count": 40,
     "metadata": {},
     "output_type": "execute_result"
    }
   ],
   "source": [
    "job_id"
   ]
  },
  {
   "cell_type": "code",
   "execution_count": 41,
   "metadata": {},
   "outputs": [
    {
     "name": "stdout",
     "output_type": "stream",
     "text": [
      "Job ID                    Name             User            Time Use S Queue\r\n",
      "------------------------- ---------------- --------------- -------- - -----\r\n",
      "13454.v-qsvr-2             ...ub-singleuser u43121          00:03:14 R jupyterhub     \r\n",
      "14033.v-qsvr-2             cpu              u43121                 0 R batch          \r\n",
      "14034.v-qsvr-2             igpu             u43121                 0 R batch          \r\n",
      "14035.v-qsvr-2             ncs2             u43121                 0 R batch          \r\n"
     ]
    }
   ],
   "source": [
    "!qstat"
   ]
  },
  {
   "cell_type": "code",
   "execution_count": 42,
   "metadata": {},
   "outputs": [],
   "source": [
    "output_path = \"output/results/fp32/fpga\"\n",
    "precision = \"FP32\"\n",
    "thres=0.5\n",
    "input_file = \"../bin/demo.mp4\"\n",
    "params = ' {} {} {} {} {}'.format(output_path, device, precision, input_file, thres)\n",
    "device = \"HETERO:FPGA,CPU\"\n",
    "node = \"tank-870:i5-6500te:iei-mustang-f100-a10\"\n",
    "job_name = \"fpga\""
   ]
  },
  {
   "cell_type": "code",
   "execution_count": 43,
   "metadata": {},
   "outputs": [],
   "source": [
    "job_id = !qsub computer_pointer.sh -l nodes=1:{node} -d . -F \"{params}\" -N {job_name}"
   ]
  },
  {
   "cell_type": "code",
   "execution_count": 44,
   "metadata": {},
   "outputs": [
    {
     "data": {
      "text/plain": [
       "['14036.v-qsvr-2.devcloud-edge']"
      ]
     },
     "execution_count": 44,
     "metadata": {},
     "output_type": "execute_result"
    }
   ],
   "source": [
    "job_id"
   ]
  },
  {
   "cell_type": "code",
   "execution_count": 45,
   "metadata": {},
   "outputs": [
    {
     "name": "stdout",
     "output_type": "stream",
     "text": [
      "Job ID                    Name             User            Time Use S Queue\r\n",
      "------------------------- ---------------- --------------- -------- - -----\r\n",
      "13454.v-qsvr-2             ...ub-singleuser u43121          00:03:14 R jupyterhub     \r\n",
      "14034.v-qsvr-2             igpu             u43121                 0 R batch          \r\n",
      "14035.v-qsvr-2             ncs2             u43121                 0 R batch          \r\n",
      "14036.v-qsvr-2             fpga             u43121                 0 R batch          \r\n"
     ]
    }
   ],
   "source": [
    "!qstat"
   ]
  },
  {
   "cell_type": "code",
   "execution_count": 47,
   "metadata": {},
   "outputs": [],
   "source": [
    "import matplotlib.pyplot as plt\n",
    "\n",
    "device_list=['cpu', 'igpu', 'fpga', 'vpu']\n",
    "inference_time=[]\n",
    "fps=[]\n",
    "model_load_time=[]\n",
    "\n",
    "for device in device_list:\n",
    "    with open('output/results/fp32/'+device+'/stats.txt', 'r') as f:\n",
    "        inf_time = float(f.readline().split(\"\\n\")[0])\n",
    "        inference_time.append(inf_time)\n",
    "        fps.append(float(f.readline().split(\"\\n\")[0]) / inf_time)\n",
    "        model_load_time.append(int(f.readline().split(\"\\n\")[0]))"
   ]
  },
  {
   "cell_type": "code",
   "execution_count": 48,
   "metadata": {},
   "outputs": [
    {
     "data": {
      "text/plain": [
       "[19.1, 20.2, 20.7, 18.9]"
      ]
     },
     "execution_count": 48,
     "metadata": {},
     "output_type": "execute_result"
    }
   ],
   "source": [
    "inference_time"
   ]
  },
  {
   "cell_type": "code",
   "execution_count": 49,
   "metadata": {},
   "outputs": [
    {
     "data": {
      "image/png": "[encoded data removed]",
      "text/plain": [
       "<Figure size 432x288 with 1 Axes>"
      ]
     },
     "metadata": {
      "needs_background": "light"
     },
     "output_type": "display_data"
    }
   ],
   "source": [
    "plt.bar(device_list, inference_time)\n",
    "plt.xlabel(\"Device Used\")\n",
    "plt.ylabel(\"Total Inference Time in Seconds\")\n",
    "plt.savefig('fp32_inference_time.png')\n",
    "plt.show()\n"
   ]
  },
  {
   "cell_type": "code",
   "execution_count": 50,
   "metadata": {},
   "outputs": [
    {
     "data": {
      "image/png": "[encoded data removed]",
      "text/plain": [
       "<Figure size 432x288 with 1 Axes>"
      ]
     },
     "metadata": {
      "needs_background": "light"
     },
     "output_type": "display_data"
    }
   ],
   "source": [
    "plt.bar(device_list, fps)\n",
    "plt.xlabel(\"Device Used\")\n",
    "plt.ylabel(\"Frames per Second\")\n",
    "plt.savefig('fp32_frames_ps.png')\n",
    "plt.show()\n"
   ]
  },
  {
   "cell_type": "code",
   "execution_count": 58,
   "metadata": {},
   "outputs": [
    {
     "data": {
      "image/png": "[encoded data removed]",
      "text/plain": [
       "<Figure size 432x288 with 1 Axes>"
      ]
     },
     "metadata": {
      "needs_background": "light"
     },
     "output_type": "display_data"
    }
   ],
   "source": [
    "plt.bar(device_list, model_load_time)\n",
    "plt.xlabel(\"Device Used\")\n",
    "plt.ylabel(\"Model Loading Time in Seconds\")\n",
    "plt.savefig('fp32_model_load__time.png')\n",
    "plt.show()"
   ]
  },
  {
   "cell_type": "code",
   "execution_count": 59,
   "metadata": {},
   "outputs": [
    {
     "data": {
      "image/png": "[encoded data removed]",
      "text/plain": [
       "<Figure size 432x288 with 1 Axes>"
      ]
     },
     "metadata": {
      "needs_background": "light"
     },
     "output_type": "display_data"
    }
   ],
   "source": [
    "import numpy as np\n",
    "\n",
    "fig = plt.figure()\n",
    "p = fig.add_subplot(111)\n",
    "\n",
    "width = 0.2\n",
    "x = np.arange(len(device_list))\n",
    "y1 = p.bar(x, inference_time, width=0.2, color='r', align='center')\n",
    "y2 = p.bar(x + width, model_load_time, width=0.2, color='b', align='center')\n",
    "\n",
    "p.set_ylabel('Time is Seconds')\n",
    "p.set_xticks(x + width/2)\n",
    "p.set_xticklabels(device_list)\n",
    "p.legend( (y1[0], y2[0]), ('Inference Time', 'Model Load Time') )\n",
    "\n",
    "plt.savefig('fp16_comparison.png')"
   ]
  },
  {
   "cell_type": "code",
   "execution_count": null,
   "metadata": {},
   "outputs": [],
   "source": []
  }
 ],
 "metadata": {
  "kernelspec": {
   "display_name": "Python 3 (Ubuntu)",
   "language": "python",
   "name": "c003-python_3"
  },
  "language_info": {
   "codemirror_mode": {
    "name": "ipython",
    "version": 3
   },
   "file_extension": ".py",
   "mimetype": "text/x-python",
   "name": "python",
   "nbconvert_exporter": "python",
   "pygments_lexer": "ipython3",
   "version": "3.6.9"
  },
  "toc": {
   "base_numbering": 1,
   "nav_menu": {},
   "number_sections": true,
   "sideBar": true,
   "skip_h1_title": false,
   "title_cell": "Table of Contents",
   "title_sidebar": "Contents",
   "toc_cell": false,
   "toc_position": {},
   "toc_section_display": true,
   "toc_window_display": false
  }
 },
 "nbformat": 4,
 "nbformat_minor": 2
}
